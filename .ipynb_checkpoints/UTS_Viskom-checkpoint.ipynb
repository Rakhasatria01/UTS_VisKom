{
 "cells": [
  {
   "cell_type": "code",
   "execution_count": 1,
   "id": "2217b2b9",
   "metadata": {},
   "outputs": [],
   "source": [
    "import cv2\n",
    "import time"
   ]
  },
  {
   "cell_type": "code",
   "execution_count": 2,
   "id": "b8a3bcd3",
   "metadata": {},
   "outputs": [],
   "source": [
    "def show_webcam(fname, mirror=False):\n",
    "    cam = cv2.VideoCapture(0)\n",
    "    while True:\n",
    "        ret_val, img = cam.read() #Membaca Kamera\n",
    "        if mirror:\n",
    "            img = cv2.flip(img, 1) #Membalik Gambar seperti Cermin\n",
    "        cv2.imshow('my webcam', img) #Menampilkan Gambar\n",
    "        if cv2.waitKey(1) == 32:\n",
    "            cv2.imwrite(fname+\".png\", img)\n",
    "            time.sleep(1)\n",
    "        if cv2.waitKey(1) == 27: \n",
    "            break #esc berhenti\n",
    "            cv2.destroyAllWindows()"
   ]
  },
  {
   "cell_type": "code",
   "execution_count": 3,
   "id": "48bf7c15",
   "metadata": {},
   "outputs": [],
   "source": [
    "show_webcam('Me', True)"
   ]
  },
  {
   "cell_type": "code",
   "execution_count": 4,
   "id": "c38095b3",
   "metadata": {},
   "outputs": [],
   "source": [
    "def openImg(filegambar):\n",
    "    img = cv2.imread(filegambar,0)\n",
    "    cv2.imshow('Gambar Tampilan',img)\n",
    "    k = cv2.waitKey(1)\n",
    "    if k == 27:\n",
    "        cv2.destroyAllWindows()"
   ]
  },
  {
   "cell_type": "code",
   "execution_count": 5,
   "id": "e0730bb7",
   "metadata": {},
   "outputs": [],
   "source": [
    "openImg('Me.png')"
   ]
  },
  {
   "cell_type": "code",
   "execution_count": null,
   "id": "e37806ee",
   "metadata": {},
   "outputs": [],
   "source": [
    "show_webcam('Me', True)"
   ]
  }
 ],
 "metadata": {
  "kernelspec": {
   "display_name": "Python 3 (ipykernel)",
   "language": "python",
   "name": "python3"
  },
  "language_info": {
   "codemirror_mode": {
    "name": "ipython",
    "version": 3
   },
   "file_extension": ".py",
   "mimetype": "text/x-python",
   "name": "python",
   "nbconvert_exporter": "python",
   "pygments_lexer": "ipython3",
   "version": "3.9.12"
  }
 },
 "nbformat": 4,
 "nbformat_minor": 5
}
